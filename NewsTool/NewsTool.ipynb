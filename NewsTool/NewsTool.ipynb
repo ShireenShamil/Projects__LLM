{
 "cells": [
  {
   "cell_type": "code",
   "execution_count": 28,
   "id": "acefb125-fbcd-4d63-a5c2-fac22ad963df",
   "metadata": {},
   "outputs": [],
   "source": [
    "from langchain.document_loaders import TextLoader\n"
   ]
  },
  {
   "cell_type": "code",
   "execution_count": 29,
   "id": "b625186d-f0ce-49c5-8922-8513a2e1c94d",
   "metadata": {},
   "outputs": [],
   "source": [
    "loader = TextLoader(\"nynb.txt\")\n",
    "data = loader.load()"
   ]
  },
  {
   "cell_type": "code",
   "execution_count": 30,
   "id": "237e66b4-4f43-4cad-958d-f8c210eab5b1",
   "metadata": {},
   "outputs": [
    {
     "data": {
      "text/plain": [
       "{'source': 'nynb.txt'}"
      ]
     },
     "execution_count": 30,
     "metadata": {},
     "output_type": "execute_result"
    }
   ],
   "source": [
    "data[0].metadata"
   ]
  },
  {
   "cell_type": "code",
   "execution_count": 31,
   "id": "0a0820e5-0be0-491d-a610-82e6acd74b97",
   "metadata": {},
   "outputs": [
    {
     "name": "stdout",
     "output_type": "stream",
     "text": [
      "Requirement already satisfied: unstructured in c:\\users\\pc\\anaconda3\\lib\\site-packages (0.18.15)\n",
      "Requirement already satisfied: libmagic in c:\\users\\pc\\anaconda3\\lib\\site-packages (1.0)\n",
      "Requirement already satisfied: python-magic in c:\\users\\pc\\anaconda3\\lib\\site-packages (0.4.27)\n",
      "Requirement already satisfied: python-magic-bin in c:\\users\\pc\\anaconda3\\lib\\site-packages (0.4.14)\n",
      "Requirement already satisfied: charset-normalizer in c:\\users\\pc\\anaconda3\\lib\\site-packages (from unstructured) (3.3.2)\n",
      "Requirement already satisfied: filetype in c:\\users\\pc\\anaconda3\\lib\\site-packages (from unstructured) (1.2.0)\n",
      "Requirement already satisfied: lxml in c:\\users\\pc\\anaconda3\\lib\\site-packages (from unstructured) (5.3.0)\n",
      "Requirement already satisfied: nltk in c:\\users\\pc\\anaconda3\\lib\\site-packages (from unstructured) (3.9.1)\n",
      "Requirement already satisfied: requests in c:\\users\\pc\\anaconda3\\lib\\site-packages (from unstructured) (2.32.3)\n",
      "Requirement already satisfied: beautifulsoup4 in c:\\users\\pc\\anaconda3\\lib\\site-packages (from unstructured) (4.12.3)\n",
      "Requirement already satisfied: emoji in c:\\users\\pc\\anaconda3\\lib\\site-packages (from unstructured) (2.15.0)\n",
      "Requirement already satisfied: dataclasses-json in c:\\users\\pc\\anaconda3\\lib\\site-packages (from unstructured) (0.6.7)\n",
      "Requirement already satisfied: python-iso639 in c:\\users\\pc\\anaconda3\\lib\\site-packages (from unstructured) (2025.2.18)\n",
      "Requirement already satisfied: langdetect in c:\\users\\pc\\anaconda3\\lib\\site-packages (from unstructured) (1.0.9)\n",
      "Requirement already satisfied: numpy in c:\\users\\pc\\anaconda3\\lib\\site-packages (from unstructured) (2.1.3)\n",
      "Requirement already satisfied: rapidfuzz in c:\\users\\pc\\anaconda3\\lib\\site-packages (from unstructured) (3.14.1)\n",
      "Requirement already satisfied: backoff in c:\\users\\pc\\anaconda3\\lib\\site-packages (from unstructured) (2.2.1)\n",
      "Requirement already satisfied: typing-extensions in c:\\users\\pc\\anaconda3\\lib\\site-packages (from unstructured) (4.12.2)\n",
      "Requirement already satisfied: unstructured-client in c:\\users\\pc\\anaconda3\\lib\\site-packages (from unstructured) (0.42.3)\n",
      "Requirement already satisfied: wrapt in c:\\users\\pc\\anaconda3\\lib\\site-packages (from unstructured) (1.17.0)\n",
      "Requirement already satisfied: tqdm in c:\\users\\pc\\anaconda3\\lib\\site-packages (from unstructured) (4.67.1)\n",
      "Requirement already satisfied: psutil in c:\\users\\pc\\anaconda3\\lib\\site-packages (from unstructured) (5.9.0)\n",
      "Requirement already satisfied: python-oxmsg in c:\\users\\pc\\anaconda3\\lib\\site-packages (from unstructured) (0.0.2)\n",
      "Requirement already satisfied: html5lib in c:\\users\\pc\\anaconda3\\lib\\site-packages (from unstructured) (1.1)\n",
      "Requirement already satisfied: soupsieve>1.2 in c:\\users\\pc\\anaconda3\\lib\\site-packages (from beautifulsoup4->unstructured) (2.5)\n",
      "Requirement already satisfied: marshmallow<4.0.0,>=3.18.0 in c:\\users\\pc\\anaconda3\\lib\\site-packages (from dataclasses-json->unstructured) (3.26.1)\n",
      "Requirement already satisfied: typing-inspect<1,>=0.4.0 in c:\\users\\pc\\anaconda3\\lib\\site-packages (from dataclasses-json->unstructured) (0.9.0)\n",
      "Requirement already satisfied: packaging>=17.0 in c:\\users\\pc\\anaconda3\\lib\\site-packages (from marshmallow<4.0.0,>=3.18.0->dataclasses-json->unstructured) (24.2)\n",
      "Requirement already satisfied: mypy-extensions>=0.3.0 in c:\\users\\pc\\anaconda3\\lib\\site-packages (from typing-inspect<1,>=0.4.0->dataclasses-json->unstructured) (1.0.0)\n",
      "Requirement already satisfied: six>=1.9 in c:\\users\\pc\\anaconda3\\lib\\site-packages (from html5lib->unstructured) (1.17.0)\n",
      "Requirement already satisfied: webencodings in c:\\users\\pc\\anaconda3\\lib\\site-packages (from html5lib->unstructured) (0.5.1)\n",
      "Requirement already satisfied: click in c:\\users\\pc\\anaconda3\\lib\\site-packages (from nltk->unstructured) (8.1.8)\n",
      "Requirement already satisfied: joblib in c:\\users\\pc\\anaconda3\\lib\\site-packages (from nltk->unstructured) (1.4.2)\n",
      "Requirement already satisfied: regex>=2021.8.3 in c:\\users\\pc\\anaconda3\\lib\\site-packages (from nltk->unstructured) (2024.11.6)\n",
      "Requirement already satisfied: colorama in c:\\users\\pc\\anaconda3\\lib\\site-packages (from click->nltk->unstructured) (0.4.6)\n",
      "Requirement already satisfied: olefile in c:\\users\\pc\\anaconda3\\lib\\site-packages (from python-oxmsg->unstructured) (0.47)\n",
      "Requirement already satisfied: idna<4,>=2.5 in c:\\users\\pc\\anaconda3\\lib\\site-packages (from requests->unstructured) (3.7)\n",
      "Requirement already satisfied: urllib3<3,>=1.21.1 in c:\\users\\pc\\anaconda3\\lib\\site-packages (from requests->unstructured) (2.3.0)\n",
      "Requirement already satisfied: certifi>=2017.4.17 in c:\\users\\pc\\anaconda3\\lib\\site-packages (from requests->unstructured) (2025.8.3)\n",
      "Requirement already satisfied: aiofiles>=24.1.0 in c:\\users\\pc\\anaconda3\\lib\\site-packages (from unstructured-client->unstructured) (24.1.0)\n",
      "Requirement already satisfied: cryptography>=3.1 in c:\\users\\pc\\anaconda3\\lib\\site-packages (from unstructured-client->unstructured) (44.0.1)\n",
      "Requirement already satisfied: httpcore>=1.0.9 in c:\\users\\pc\\anaconda3\\lib\\site-packages (from unstructured-client->unstructured) (1.0.9)\n",
      "Requirement already satisfied: httpx>=0.27.0 in c:\\users\\pc\\anaconda3\\lib\\site-packages (from unstructured-client->unstructured) (0.28.1)\n",
      "Requirement already satisfied: pydantic>=2.11.2 in c:\\users\\pc\\anaconda3\\lib\\site-packages (from unstructured-client->unstructured) (2.11.9)\n",
      "Requirement already satisfied: pypdf>=4.0 in c:\\users\\pc\\anaconda3\\lib\\site-packages (from unstructured-client->unstructured) (6.1.1)\n",
      "Requirement already satisfied: requests-toolbelt>=1.0.0 in c:\\users\\pc\\anaconda3\\lib\\site-packages (from unstructured-client->unstructured) (1.0.0)\n",
      "Requirement already satisfied: cffi>=1.12 in c:\\users\\pc\\anaconda3\\lib\\site-packages (from cryptography>=3.1->unstructured-client->unstructured) (1.17.1)\n",
      "Requirement already satisfied: pycparser in c:\\users\\pc\\anaconda3\\lib\\site-packages (from cffi>=1.12->cryptography>=3.1->unstructured-client->unstructured) (2.21)\n",
      "Requirement already satisfied: h11>=0.16 in c:\\users\\pc\\anaconda3\\lib\\site-packages (from httpcore>=1.0.9->unstructured-client->unstructured) (0.16.0)\n",
      "Requirement already satisfied: anyio in c:\\users\\pc\\anaconda3\\lib\\site-packages (from httpx>=0.27.0->unstructured-client->unstructured) (4.7.0)\n",
      "Requirement already satisfied: annotated-types>=0.6.0 in c:\\users\\pc\\anaconda3\\lib\\site-packages (from pydantic>=2.11.2->unstructured-client->unstructured) (0.6.0)\n",
      "Requirement already satisfied: pydantic-core==2.33.2 in c:\\users\\pc\\anaconda3\\lib\\site-packages (from pydantic>=2.11.2->unstructured-client->unstructured) (2.33.2)\n",
      "Requirement already satisfied: typing-inspection>=0.4.0 in c:\\users\\pc\\anaconda3\\lib\\site-packages (from pydantic>=2.11.2->unstructured-client->unstructured) (0.4.1)\n",
      "Requirement already satisfied: sniffio>=1.1 in c:\\users\\pc\\anaconda3\\lib\\site-packages (from anyio->httpx>=0.27.0->unstructured-client->unstructured) (1.3.0)\n"
     ]
    }
   ],
   "source": [
    "!pip3 install unstructured libmagic python-magic python-magic-bin"
   ]
  },
  {
   "cell_type": "code",
   "execution_count": 32,
   "id": "728b2a54-cdb7-43f4-88ec-3888cf6b3d03",
   "metadata": {},
   "outputs": [],
   "source": [
    "from langchain.document_loaders import UnstructuredURLLoader"
   ]
  },
  {
   "cell_type": "code",
   "execution_count": 33,
   "id": "23f22908-ffe6-462c-a1ce-5b7927bde4d9",
   "metadata": {},
   "outputs": [],
   "source": [
    "loader = UnstructuredURLLoader(urls=[\n",
    "    \"https://subscriber.politicopro.com/article/eenews/2025/09/29/trump-launches-new-bid-to-save-coal-00584445?utm_source=chatgpt.com\" ,\n",
    "    \"https://www.clickorlando.com/video/news/2025/09/29/julie-broughton-breaks-down-today-s-top-stories/?utm_source=chatgpt.com\"\n",
    "    \n",
    "])"
   ]
  },
  {
   "cell_type": "code",
   "execution_count": 50,
   "id": "df46b7c3-113e-4c97-953e-dd18fda9f252",
   "metadata": {},
   "outputs": [
    {
     "data": {
      "text/plain": [
       "2"
      ]
     },
     "execution_count": 50,
     "metadata": {},
     "output_type": "execute_result"
    }
   ],
   "source": [
    "data = loader.load()\n",
    "len(data)"
   ]
  },
  {
   "cell_type": "code",
   "execution_count": 51,
   "id": "4ab64972-e9f6-444e-a925-bbf290007b79",
   "metadata": {},
   "outputs": [
    {
     "data": {
      "text/plain": [
       "{'source': 'https://subscriber.politicopro.com/article/eenews/2025/09/29/trump-launches-new-bid-to-save-coal-00584445?utm_source=chatgpt.com'}"
      ]
     },
     "execution_count": 51,
     "metadata": {},
     "output_type": "execute_result"
    }
   ],
   "source": [
    "data[0].metadata"
   ]
  },
  {
   "cell_type": "code",
   "execution_count": 52,
   "id": "61ae0c0f-43c0-44f8-9480-7886418ea923",
   "metadata": {},
   "outputs": [],
   "source": [
    "text=\"Artificial Intelligence (AI) has rapidly transformed from a theoretical concept to a practical technology that affects almost every aspect of modern life. Its applications span multiple industries, ranging from healthcare to finance, education to entertainment, and transportation to communication. The evolution of AI is closely linked to advancements in computing power, data availability, and algorithmic innovations. Initially, AI was conceptualized as the simulation of human intelligence by machines, but over the decades, it has evolved into a sophisticated discipline capable of performing tasks that once required human cognition. Machine learning, a subset of AI, enables computers to learn from data and improve their performance without explicit programming. This has led to the creation of systems that can recognize images, understand natural language, make predictions, and even drive vehicles autonomously. Deep learning, a more advanced branch of machine learning, utilizes neural networks with multiple layers to model complex patterns in data. These neural networks are inspired by the structure and function of the human brain, allowing AI systems to process information in a hierarchical manner. The combination of big data and deep learning has significantly accelerated AI's capabilities, making it possible to handle massive datasets and extract meaningful insights that were previously unattainable. One of the most visible manifestations of AI in everyday life is in the form of virtual assistants, such as Siri, Alexa, and Google Assistant, which leverage natural language processing to interpret user commands and provide relevant responses. These systems rely on sophisticated algorithms that parse speech, understand context, and generate human-like answers. Beyond virtual assistants, AI has revolutionized recommendation systems, which are widely used by platforms like Netflix, Amazon, and YouTube to suggest content tailored to user preferences. By analyzing user behavior and preferences, these systems can predict what a person is likely to watch, buy, or engage with next, thereby enhancing user experience and increasing engagement. In the healthcare sector, AI has shown remarkable potential in diagnosing diseases, predicting patient outcomes, and assisting in drug discovery. Algorithms trained on medical imaging data can detect anomalies in X-rays, MRIs, and CT scans with accuracy comparable to or even exceeding that of human radiologists. Moreover, AI-driven predictive analytics help in identifying high-risk patients, enabling early intervention and personalized treatment plans. Drug discovery, traditionally a lengthy and costly process, has been accelerated by AI models that can predict the efficacy and potential side effects of new compounds, thereby reducing the time and cost associated with bringing new drugs to market. Autonomous vehicles represent another domain where AI has made significant strides. Self-driving cars rely on a combination of computer vision, sensor fusion, and reinforcement learning to navigate complex environments safely. These vehicles must process vast amounts of real-time data from cameras, LiDAR, radar, and GPS to make split-second decisions, ensuring both safety and efficiency. While the technology is promising, challenges related to safety, ethical decision-making, and regulatory compliance continue to shape the development and deployment of autonomous vehicles. AI has also transformed the financial industry by enabling automated trading, fraud detection, and personalized financial advice. High-frequency trading algorithms can analyze market data in milliseconds and execute trades at speeds unattainable by human traders. Fraud detection systems leverage machine learning to identify unusual patterns in transactions, preventing financial losses and safeguarding consumer trust. Personalized financial services, powered by AI, can recommend investment strategies, savings plans, and credit solutions tailored to individual needs, thereby democratizing access to financial expertise. Education is another area where AI is creating a profound impact. Intelligent tutoring systems can adapt to individual learning styles, providing personalized instruction and feedback. By analyzing student performance data, AI can identify areas of weakness, suggest targeted exercises, and even predict which students might be at risk of falling behind. Beyond traditional education, AI-driven platforms enable lifelong learning by offering personalized courses, adaptive assessments, and virtual mentorship, thus supporting continuous skill development in a rapidly changing job market. In the realm of creative arts, AI is pushing the boundaries of what machines can achieve. Generative models can create music, art, literature, and even design prototypes for fashion or industrial products. While some critics argue that AI lacks true creativity, proponents highlight its ability to augment human creativity by providing new tools, perspectives, and inspirations. AI-generated art and music are being increasingly recognized in galleries and online platforms, prompting discussions about authorship, originality, and the role of human intuition in creative processes. Ethical considerations surrounding AI are critical and increasingly debated. Issues such as data privacy, algorithmic bias, accountability, and job displacement are central to discussions on responsible AI deployment. Biases in AI systems can arise from skewed training data or flawed assumptions in model design, leading to unfair or discriminatory outcomes. For instance, facial recognition algorithms have been found to exhibit higher error rates for certain demographic groups, raising concerns about surveillance, security, and civil liberties. Policymakers, researchers, and industry leaders are actively seeking frameworks and guidelines to ensure AI is developed and deployed in ways that are fair, transparent, and beneficial to society. The environmental impact of AI is also a growing concern. Training large-scale machine learning models consumes significant computational resources and energy, contributing to carbon emissions. Researchers are exploring ways to optimize algorithms, utilize renewable energy sources, and design more efficient hardware to mitigate AI's environmental footprint. The pursuit of sustainable AI aligns with broader global efforts to address climate change and promote responsible technological innovation. AI's influence on the workforce is multifaceted. While automation threatens to displace certain jobs, it also creates opportunities for new roles that require advanced technical skills, creative problem-solving, and human judgment. Reskilling and upskilling initiatives are essential to prepare workers for AI-augmented environments. Collaboration between industry, educational institutions, and governments is necessary to ensure that the benefits of AI are equitably distributed and that workers are supported through transitions. The future of AI holds both promise and uncertainty. Emerging areas such as explainable AI, general AI, and AI ethics are poised to shape the next decade of technological development. Explainable AI aims to make AI models more interpretable, allowing humans to understand the reasoning behind decisions. General AI, although still largely theoretical, aspires to create machines capable of performing a wide range of intellectual tasks with human-like adaptability. Ethical AI research continues to focus on aligning AI systems with human values, ensuring accountability, and minimizing unintended consequences. Interdisciplinary collaboration will be key to achieving these goals, integrating insights from computer science, cognitive psychology, philosophy, law, and sociology. In conclusion, Artificial Intelligence is no longer a distant vision of the future; it is an integral part of contemporary society, transforming industries, enhancing human capabilities, and reshaping the way we live and work. Its rapid development brings unprecedented opportunities while also posing significant challenges. Balancing innovation with ethical considerations, sustainability, and social responsibility will determine how AI shapes the world in the years to come. As AI continues to evolve, it is essential for individuals, organizations, and governments to engage thoughtfully with this technology, fostering an environment where AI serves as a tool for positive transformation, inclusivity, and shared prosperity. The journey of AI is ongoing, marked by milestones of ingenuity, collaboration, and reflection, reminding us that the technology we create must always be guided by human wisdom and ethical foresight.\""
   ]
  },
  {
   "cell_type": "code",
   "execution_count": 65,
   "id": "8e5cfddf-c076-4a21-ae1d-b8d071be51ea",
   "metadata": {},
   "outputs": [
    {
     "data": {
      "text/plain": [
       "14"
      ]
     },
     "execution_count": 65,
     "metadata": {},
     "output_type": "execute_result"
    }
   ],
   "source": [
    "from langchain.text_splitter import CharacterTextSplitter\n",
    "\n",
    "splitter = CharacterTextSplitter(\n",
    "    separator = \" \",\n",
    "    chunk_size = 500,\n",
    "    chunk_overlap = 0\n",
    ")\n",
    "\n",
    "chunks = splitter.split_text(text)\n",
    "len(chunks)"
   ]
  },
  {
   "cell_type": "code",
   "execution_count": 66,
   "id": "dd94d09a-9e9b-4d1b-b4ce-5c3a7afd998d",
   "metadata": {},
   "outputs": [
    {
     "data": {
      "text/plain": [
       "['In the modern era, technology has woven itself deeply into the fabric of daily life, transforming how individuals communicate, learn, work, and entertain themselves. From the moment we wake up to the sound of digital alarms, to the applications we use to track our fitness, finance, and schedules, the pervasiveness of technology is undeniable. In the modern era, technology has woven itself deeply into the fabric of daily life, transforming how individuals communicate, learn, work, and entertain',\n",
       " 'themselves. From the moment we wake up to the sound of digital alarms, to the applications we use to track our fitness, finance, and schedules, the pervasiveness of technology is undeniable. In the modern era, technology has woven itself deeply into the fabric of daily life, transforming how individuals communicate, learn, work, and entertain themselves. From the moment we wake up to the sound of digital alarms, to the applications we use to track our fitness, finance, and schedules, the',\n",
       " 'pervasiveness of technology is undeniable. In the modern era, technology has woven itself deeply into the fabric of daily life, transforming how individuals communicate, learn, work, and entertain themselves. From the moment we wake up to the sound of digital alarms, to the applications we use to track our fitness, finance, and schedules, the pervasiveness of technology is undeniable. In the modern era, technology has woven itself deeply into the fabric of daily life, transforming how',\n",
       " 'individuals communicate, learn, work, and entertain themselves. From the moment we wake up to the sound of digital alarms, to the applications we use to track our fitness, finance, and schedules, the pervasiveness of technology is undeniable. In the modern era, technology has woven itself deeply into the fabric of daily life, transforming how individuals communicate, learn, work, and entertain themselves. From the moment we wake up to the sound of digital alarms, to the applications we use to',\n",
       " 'track our fitness, finance, and schedules, the pervasiveness of technology is undeniable. In the modern era, technology has woven itself deeply into the fabric of daily life, transforming how individuals communicate, learn, work, and entertain themselves. From the moment we wake up to the sound of digital alarms, to the applications we use to track our fitness, finance, and schedules, the pervasiveness of technology is undeniable. In the modern era, technology has woven itself deeply into the',\n",
       " 'fabric of daily life, transforming how individuals communicate, learn, work, and entertain themselves. From the moment we wake up to the sound of digital alarms, to the applications we use to track our fitness, finance, and schedules, the pervasiveness of technology is undeniable. In the modern era, technology has woven itself deeply into the fabric of daily life, transforming how individuals communicate, learn, work, and entertain themselves. From the moment we wake up to the sound of digital',\n",
       " 'alarms, to the applications we use to track our fitness, finance, and schedules, the pervasiveness of technology is undeniable. In the modern era, technology has woven itself deeply into the fabric of daily life, transforming how individuals communicate, learn, work, and entertain themselves. From the moment we wake up to the sound of digital alarms, to the applications we use to track our fitness, finance, and schedules, the pervasiveness of technology is undeniable. In the modern era,',\n",
       " 'technology has woven itself deeply into the fabric of daily life, transforming how individuals communicate, learn, work, and entertain themselves. From the moment we wake up to the sound of digital alarms, to the applications we use to track our fitness, finance, and schedules, the pervasiveness of technology is undeniable. In the modern era, technology has woven itself deeply into the fabric of daily life, transforming how individuals communicate, learn, work, and entertain themselves. From the',\n",
       " 'moment we wake up to the sound of digital alarms, to the applications we use to track our fitness, finance, and schedules, the pervasiveness of technology is undeniable. In the modern era, technology has woven itself deeply into the fabric of daily life, transforming how individuals communicate, learn, work, and entertain themselves. From the moment we wake up to the sound of digital alarms, to the applications we use to track our fitness, finance, and schedules, the pervasiveness of technology',\n",
       " 'is undeniable. In the modern era, technology has woven itself deeply into the fabric of daily life, transforming how individuals communicate, learn, work, and entertain themselves. From the moment we wake up to the sound of digital alarms, to the applications we use to track our fitness, finance, and schedules, the pervasiveness of technology is undeniable. In the modern era, technology has woven itself deeply into the fabric of daily life, transforming how individuals communicate, learn, work,',\n",
       " 'and entertain themselves. From the moment we wake up to the sound of digital alarms, to the applications we use to track our fitness, finance, and schedules, the pervasiveness of technology is undeniable. In the modern era, technology has woven itself deeply into the fabric of daily life, transforming how individuals communicate, learn, work, and entertain themselves. From the moment we wake up to the sound of digital alarms, to the applications we use to track our fitness, finance, and',\n",
       " 'schedules, the pervasiveness of technology is undeniable. In the modern era, technology has woven itself deeply into the fabric of daily life, transforming how individuals communicate, learn, work, and entertain themselves. From the moment we wake up to the sound of digital alarms, to the applications we use to track our fitness, finance, and schedules, the pervasiveness of technology is undeniable. In the modern era, technology has woven itself deeply into the fabric of daily life, transforming',\n",
       " 'how individuals communicate, learn, work, and entertain themselves. From the moment we wake up to the sound of digital alarms, to the applications we use to track our fitness, finance, and schedules, the pervasiveness of technology is undeniable. In the modern era, technology has woven itself deeply into the fabric of daily life, transforming how individuals communicate, learn, work, and entertain themselves. From the moment we wake up to the sound of digital alarms, to the applications we use',\n",
       " 'to track our fitness, finance, and schedules, the pervasiveness of technology is undeniable. In the modern era, technology has woven itself deeply into the fabric of daily life, transforming how individuals communicate, learn, work, and entertain themselves. From the moment we wake up to the sound of digital alarms, to the applications we use to track our fitness, finance, and schedules, the pervasiveness of technology is undeniable.']"
      ]
     },
     "execution_count": 66,
     "metadata": {},
     "output_type": "execute_result"
    }
   ],
   "source": [
    "chunks"
   ]
  },
  {
   "cell_type": "code",
   "execution_count": 67,
   "id": "d2046eba-cf75-48ba-be4c-72f9d936e3bf",
   "metadata": {},
   "outputs": [
    {
     "name": "stdout",
     "output_type": "stream",
     "text": [
      "498\n",
      "492\n",
      "489\n",
      "497\n",
      "497\n",
      "498\n",
      "491\n",
      "500\n",
      "499\n",
      "499\n",
      "491\n",
      "500\n",
      "498\n",
      "437\n"
     ]
    }
   ],
   "source": [
    "for chunk in chunks:\n",
    " print(len(chunk))\n"
   ]
  },
  {
   "cell_type": "code",
   "execution_count": 72,
   "id": "b4eeaf4a-b805-4f2f-b512-d751b1b777a2",
   "metadata": {},
   "outputs": [
    {
     "data": {
      "text/plain": [
       "14"
      ]
     },
     "execution_count": 72,
     "metadata": {},
     "output_type": "execute_result"
    }
   ],
   "source": [
    "from langchain.text_splitter import RecursiveCharacterTextSplitter\n",
    "\n",
    "r_splitter = RecursiveCharacterTextSplitter(\n",
    "   separators = [\"\\n\\n\", \"\\n\", \" \"],\n",
    "   chunk_size=500,\n",
    "   chunk_overlap=0\n",
    "\n",
    ")\n",
    "\n",
    "chunks = r_splitter.split_text(text)\n",
    "len(chunks)"
   ]
  },
  {
   "cell_type": "code",
   "execution_count": 73,
   "id": "2e9cb4dd-a41b-488b-be82-6a2ee606db32",
   "metadata": {},
   "outputs": [
    {
     "name": "stdout",
     "output_type": "stream",
     "text": [
      "498\n",
      "492\n",
      "489\n",
      "497\n",
      "497\n",
      "498\n",
      "491\n",
      "496\n",
      "492\n",
      "497\n",
      "491\n",
      "494\n",
      "497\n",
      "457\n"
     ]
    }
   ],
   "source": [
    "for chunk in chunks:\n",
    " print(len(chunk))"
   ]
  },
  {
   "cell_type": "code",
   "execution_count": 79,
   "id": "f5af45ee-2f22-4878-9b34-90ade7e110d9",
   "metadata": {},
   "outputs": [
    {
     "name": "stdout",
     "output_type": "stream",
     "text": [
      "6900\n"
     ]
    }
   ],
   "source": [
    "chunks = text.split(\"\\n\\n\")\n",
    "for chunk in chunks:\n",
    "  print(len(chunk))"
   ]
  },
  {
   "cell_type": "code",
   "execution_count": 80,
   "id": "754aec14-0b30-4d18-8751-aa7aab59f2cd",
   "metadata": {},
   "outputs": [
    {
     "data": {
      "text/plain": [
       "'In the modern era, technology has woven itself deeply into the fabric of daily life, transforming how individuals communicate, learn, work, and entertain themselves. From the moment we wake up to the sound of digital alarms, to the applications we use to track our fitness, finance, and schedules, the pervasiveness of technology is undeniable. In the modern era, technology has woven itself deeply into the fabric of daily life, transforming how individuals communicate, learn, work, and entertain themselves. From the moment we wake up to the sound of digital alarms, to the applications we use to track our fitness, finance, and schedules, the pervasiveness of technology is undeniable. In the modern era, technology has woven itself deeply into the fabric of daily life, transforming how individuals communicate, learn, work, and entertain themselves. From the moment we wake up to the sound of digital alarms, to the applications we use to track our fitness, finance, and schedules, the pervasiveness of technology is undeniable. In the modern era, technology has woven itself deeply into the fabric of daily life, transforming how individuals communicate, learn, work, and entertain themselves. From the moment we wake up to the sound of digital alarms, to the applications we use to track our fitness, finance, and schedules, the pervasiveness of technology is undeniable. In the modern era, technology has woven itself deeply into the fabric of daily life, transforming how individuals communicate, learn, work, and entertain themselves. From the moment we wake up to the sound of digital alarms, to the applications we use to track our fitness, finance, and schedules, the pervasiveness of technology is undeniable. In the modern era, technology has woven itself deeply into the fabric of daily life, transforming how individuals communicate, learn, work, and entertain themselves. From the moment we wake up to the sound of digital alarms, to the applications we use to track our fitness, finance, and schedules, the pervasiveness of technology is undeniable. In the modern era, technology has woven itself deeply into the fabric of daily life, transforming how individuals communicate, learn, work, and entertain themselves. From the moment we wake up to the sound of digital alarms, to the applications we use to track our fitness, finance, and schedules, the pervasiveness of technology is undeniable. In the modern era, technology has woven itself deeply into the fabric of daily life, transforming how individuals communicate, learn, work, and entertain themselves. From the moment we wake up to the sound of digital alarms, to the applications we use to track our fitness, finance, and schedules, the pervasiveness of technology is undeniable. In the modern era, technology has woven itself deeply into the fabric of daily life, transforming how individuals communicate, learn, work, and entertain themselves. From the moment we wake up to the sound of digital alarms, to the applications we use to track our fitness, finance, and schedules, the pervasiveness of technology is undeniable. In the modern era, technology has woven itself deeply into the fabric of daily life, transforming how individuals communicate, learn, work, and entertain themselves. From the moment we wake up to the sound of digital alarms, to the applications we use to track our fitness, finance, and schedules, the pervasiveness of technology is undeniable. In the modern era, technology has woven itself deeply into the fabric of daily life, transforming how individuals communicate, learn, work, and entertain themselves. From the moment we wake up to the sound of digital alarms, to the applications we use to track our fitness, finance, and schedules, the pervasiveness of technology is undeniable. In the modern era, technology has woven itself deeply into the fabric of daily life, transforming how individuals communicate, learn, work, and entertain themselves. From the moment we wake up to the sound of digital alarms, to the applications we use to track our fitness, finance, and schedules, the pervasiveness of technology is undeniable. In the modern era, technology has woven itself deeply into the fabric of daily life, transforming how individuals communicate, learn, work, and entertain themselves. From the moment we wake up to the sound of digital alarms, to the applications we use to track our fitness, finance, and schedules, the pervasiveness of technology is undeniable. In the modern era, technology has woven itself deeply into the fabric of daily life, transforming how individuals communicate, learn, work, and entertain themselves. From the moment we wake up to the sound of digital alarms, to the applications we use to track our fitness, finance, and schedules, the pervasiveness of technology is undeniable. In the modern era, technology has woven itself deeply into the fabric of daily life, transforming how individuals communicate, learn, work, and entertain themselves. From the moment we wake up to the sound of digital alarms, to the applications we use to track our fitness, finance, and schedules, the pervasiveness of technology is undeniable. In the modern era, technology has woven itself deeply into the fabric of daily life, transforming how individuals communicate, learn, work, and entertain themselves. From the moment we wake up to the sound of digital alarms, to the applications we use to track our fitness, finance, and schedules, the pervasiveness of technology is undeniable. In the modern era, technology has woven itself deeply into the fabric of daily life, transforming how individuals communicate, learn, work, and entertain themselves. From the moment we wake up to the sound of digital alarms, to the applications we use to track our fitness, finance, and schedules, the pervasiveness of technology is undeniable. In the modern era, technology has woven itself deeply into the fabric of daily life, transforming how individuals communicate, learn, work, and entertain themselves. From the moment we wake up to the sound of digital alarms, to the applications we use to track our fitness, finance, and schedules, the pervasiveness of technology is undeniable. In the modern era, technology has woven itself deeply into the fabric of daily life, transforming how individuals communicate, learn, work, and entertain themselves. From the moment we wake up to the sound of digital alarms, to the applications we use to track our fitness, finance, and schedules, the pervasiveness of technology is undeniable. In the modern era, technology has woven itself deeply into the fabric of daily life, transforming how individuals communicate, learn, work, and entertain themselves. From the moment we wake up to the sound of digital alarms, to the applications we use to track our fitness, finance, and schedules, the pervasiveness of technology is undeniable. '"
      ]
     },
     "execution_count": 80,
     "metadata": {},
     "output_type": "execute_result"
    }
   ],
   "source": [
    "first_split = chunks[0]\n",
    "first_split"
   ]
  },
  {
   "cell_type": "code",
   "execution_count": 81,
   "id": "fe6ee82f-7592-4cf6-b503-c711d832fbc5",
   "metadata": {},
   "outputs": [
    {
     "data": {
      "text/plain": [
       "6900"
      ]
     },
     "execution_count": 81,
     "metadata": {},
     "output_type": "execute_result"
    }
   ],
   "source": [
    "second_split = first_split.split(\"\\n\")\n",
    "len(second_split[0])"
   ]
  },
  {
   "cell_type": "code",
   "execution_count": 1,
   "id": "9a1af585-654e-45dd-9390-9cc534d8a7b8",
   "metadata": {},
   "outputs": [
    {
     "name": "stdout",
     "output_type": "stream",
     "text": [
      "Requirement already satisfied: faiss-cpu in c:\\users\\pc\\anaconda3\\lib\\site-packages (1.12.0)\n",
      "Requirement already satisfied: numpy<3.0,>=1.25.0 in c:\\users\\pc\\anaconda3\\lib\\site-packages (from faiss-cpu) (2.1.3)\n",
      "Requirement already satisfied: packaging in c:\\users\\pc\\anaconda3\\lib\\site-packages (from faiss-cpu) (24.2)\n",
      "Collecting sentence-transformers\n",
      "  Using cached sentence_transformers-5.1.1-py3-none-any.whl.metadata (16 kB)\n",
      "Collecting transformers<5.0.0,>=4.41.0 (from sentence-transformers)\n",
      "  Using cached transformers-4.56.2-py3-none-any.whl.metadata (40 kB)\n",
      "Requirement already satisfied: tqdm in c:\\users\\pc\\anaconda3\\lib\\site-packages (from sentence-transformers) (4.67.1)\n",
      "Requirement already satisfied: torch>=1.11.0 in c:\\users\\pc\\anaconda3\\lib\\site-packages (from sentence-transformers) (2.8.0)\n",
      "Requirement already satisfied: scikit-learn in c:\\users\\pc\\anaconda3\\lib\\site-packages (from sentence-transformers) (1.6.1)\n",
      "Requirement already satisfied: scipy in c:\\users\\pc\\anaconda3\\lib\\site-packages (from sentence-transformers) (1.15.3)\n",
      "Requirement already satisfied: huggingface-hub>=0.20.0 in c:\\users\\pc\\anaconda3\\lib\\site-packages (from sentence-transformers) (0.35.3)\n",
      "Requirement already satisfied: Pillow in c:\\users\\pc\\anaconda3\\lib\\site-packages (from sentence-transformers) (11.1.0)\n",
      "Requirement already satisfied: typing_extensions>=4.5.0 in c:\\users\\pc\\anaconda3\\lib\\site-packages (from sentence-transformers) (4.12.2)\n",
      "Requirement already satisfied: filelock in c:\\users\\pc\\anaconda3\\lib\\site-packages (from transformers<5.0.0,>=4.41.0->sentence-transformers) (3.17.0)\n",
      "Requirement already satisfied: numpy>=1.17 in c:\\users\\pc\\anaconda3\\lib\\site-packages (from transformers<5.0.0,>=4.41.0->sentence-transformers) (2.1.3)\n",
      "Requirement already satisfied: packaging>=20.0 in c:\\users\\pc\\anaconda3\\lib\\site-packages (from transformers<5.0.0,>=4.41.0->sentence-transformers) (24.2)\n",
      "Requirement already satisfied: pyyaml>=5.1 in c:\\users\\pc\\anaconda3\\lib\\site-packages (from transformers<5.0.0,>=4.41.0->sentence-transformers) (6.0.2)\n",
      "Requirement already satisfied: regex!=2019.12.17 in c:\\users\\pc\\anaconda3\\lib\\site-packages (from transformers<5.0.0,>=4.41.0->sentence-transformers) (2024.11.6)\n",
      "Requirement already satisfied: requests in c:\\users\\pc\\anaconda3\\lib\\site-packages (from transformers<5.0.0,>=4.41.0->sentence-transformers) (2.32.3)\n",
      "Requirement already satisfied: tokenizers<=0.23.0,>=0.22.0 in c:\\users\\pc\\anaconda3\\lib\\site-packages (from transformers<5.0.0,>=4.41.0->sentence-transformers) (0.22.1)\n",
      "Requirement already satisfied: safetensors>=0.4.3 in c:\\users\\pc\\anaconda3\\lib\\site-packages (from transformers<5.0.0,>=4.41.0->sentence-transformers) (0.6.2)\n",
      "Requirement already satisfied: fsspec>=2023.5.0 in c:\\users\\pc\\anaconda3\\lib\\site-packages (from huggingface-hub>=0.20.0->sentence-transformers) (2025.3.2)\n",
      "Requirement already satisfied: sympy>=1.13.3 in c:\\users\\pc\\anaconda3\\lib\\site-packages (from torch>=1.11.0->sentence-transformers) (1.13.3)\n",
      "Requirement already satisfied: networkx in c:\\users\\pc\\anaconda3\\lib\\site-packages (from torch>=1.11.0->sentence-transformers) (3.4.2)\n",
      "Requirement already satisfied: jinja2 in c:\\users\\pc\\anaconda3\\lib\\site-packages (from torch>=1.11.0->sentence-transformers) (3.1.6)\n",
      "Requirement already satisfied: setuptools in c:\\users\\pc\\anaconda3\\lib\\site-packages (from torch>=1.11.0->sentence-transformers) (72.1.0)\n",
      "Requirement already satisfied: mpmath<1.4,>=1.1.0 in c:\\users\\pc\\anaconda3\\lib\\site-packages (from sympy>=1.13.3->torch>=1.11.0->sentence-transformers) (1.3.0)\n",
      "Requirement already satisfied: colorama in c:\\users\\pc\\anaconda3\\lib\\site-packages (from tqdm->sentence-transformers) (0.4.6)\n",
      "Requirement already satisfied: MarkupSafe>=2.0 in c:\\users\\pc\\anaconda3\\lib\\site-packages (from jinja2->torch>=1.11.0->sentence-transformers) (3.0.2)\n",
      "Requirement already satisfied: charset-normalizer<4,>=2 in c:\\users\\pc\\anaconda3\\lib\\site-packages (from requests->transformers<5.0.0,>=4.41.0->sentence-transformers) (3.3.2)\n",
      "Requirement already satisfied: idna<4,>=2.5 in c:\\users\\pc\\anaconda3\\lib\\site-packages (from requests->transformers<5.0.0,>=4.41.0->sentence-transformers) (3.7)\n",
      "Requirement already satisfied: urllib3<3,>=1.21.1 in c:\\users\\pc\\anaconda3\\lib\\site-packages (from requests->transformers<5.0.0,>=4.41.0->sentence-transformers) (2.3.0)\n",
      "Requirement already satisfied: certifi>=2017.4.17 in c:\\users\\pc\\anaconda3\\lib\\site-packages (from requests->transformers<5.0.0,>=4.41.0->sentence-transformers) (2025.8.3)\n",
      "Requirement already satisfied: joblib>=1.2.0 in c:\\users\\pc\\anaconda3\\lib\\site-packages (from scikit-learn->sentence-transformers) (1.4.2)\n",
      "Requirement already satisfied: threadpoolctl>=3.1.0 in c:\\users\\pc\\anaconda3\\lib\\site-packages (from scikit-learn->sentence-transformers) (3.5.0)\n",
      "Using cached sentence_transformers-5.1.1-py3-none-any.whl (486 kB)\n",
      "Using cached transformers-4.56.2-py3-none-any.whl (11.6 MB)\n",
      "Installing collected packages: transformers, sentence-transformers\n",
      "\n",
      "   ---------------------------------------- 0/2 [transformers]\n",
      "   ---------------------------------------- 0/2 [transformers]\n",
      "   ---------------------------------------- 0/2 [transformers]\n",
      "   ---------------------------------------- 0/2 [transformers]\n",
      "   ---------------------------------------- 0/2 [transformers]\n",
      "   ---------------------------------------- 0/2 [transformers]\n",
      "   ---------------------------------------- 0/2 [transformers]\n",
      "   ---------------------------------------- 0/2 [transformers]\n",
      "   ---------------------------------------- 0/2 [transformers]\n",
      "   ---------------------------------------- 0/2 [transformers]\n",
      "   ---------------------------------------- 0/2 [transformers]\n",
      "   ---------------------------------------- 0/2 [transformers]\n",
      "   ---------------------------------------- 0/2 [transformers]\n",
      "   ---------------------------------------- 0/2 [transformers]\n",
      "   ---------------------------------------- 0/2 [transformers]\n",
      "   ---------------------------------------- 0/2 [transformers]\n",
      "   ---------------------------------------- 0/2 [transformers]\n",
      "   ---------------------------------------- 0/2 [transformers]\n",
      "   ---------------------------------------- 0/2 [transformers]\n",
      "   ---------------------------------------- 0/2 [transformers]\n",
      "   ---------------------------------------- 0/2 [transformers]\n",
      "   ---------------------------------------- 0/2 [transformers]\n",
      "   ---------------------------------------- 0/2 [transformers]\n",
      "   ---------------------------------------- 0/2 [transformers]\n",
      "   ---------------------------------------- 0/2 [transformers]\n",
      "   ---------------------------------------- 0/2 [transformers]\n",
      "   ---------------------------------------- 0/2 [transformers]\n",
      "   ---------------------------------------- 0/2 [transformers]\n",
      "   ---------------------------------------- 0/2 [transformers]\n",
      "   ---------------------------------------- 0/2 [transformers]\n",
      "   ---------------------------------------- 0/2 [transformers]\n",
      "   ---------------------------------------- 0/2 [transformers]\n",
      "   ---------------------------------------- 0/2 [transformers]\n",
      "   ---------------------------------------- 0/2 [transformers]\n",
      "   ---------------------------------------- 0/2 [transformers]\n",
      "   ---------------------------------------- 0/2 [transformers]\n",
      "   ---------------------------------------- 0/2 [transformers]\n",
      "   ---------------------------------------- 0/2 [transformers]\n",
      "   ---------------------------------------- 0/2 [transformers]\n",
      "   ---------------------------------------- 0/2 [transformers]\n",
      "   ---------------------------------------- 0/2 [transformers]\n",
      "   ---------------------------------------- 0/2 [transformers]\n",
      "   ---------------------------------------- 0/2 [transformers]\n",
      "   ---------------------------------------- 0/2 [transformers]\n",
      "   ---------------------------------------- 0/2 [transformers]\n",
      "   ---------------------------------------- 0/2 [transformers]\n",
      "   ---------------------------------------- 0/2 [transformers]\n",
      "   ---------------------------------------- 0/2 [transformers]\n",
      "   ---------------------------------------- 0/2 [transformers]\n",
      "   ---------------------------------------- 0/2 [transformers]\n",
      "   ---------------------------------------- 0/2 [transformers]\n",
      "   ---------------------------------------- 0/2 [transformers]\n",
      "   ---------------------------------------- 0/2 [transformers]\n",
      "   ---------------------------------------- 0/2 [transformers]\n",
      "   ---------------------------------------- 0/2 [transformers]\n",
      "   ---------------------------------------- 0/2 [transformers]\n",
      "   ---------------------------------------- 0/2 [transformers]\n",
      "   ---------------------------------------- 0/2 [transformers]\n",
      "   ---------------------------------------- 0/2 [transformers]\n",
      "   ---------------------------------------- 0/2 [transformers]\n",
      "   ---------------------------------------- 0/2 [transformers]\n",
      "   ---------------------------------------- 0/2 [transformers]\n",
      "   ---------------------------------------- 0/2 [transformers]\n",
      "   ---------------------------------------- 0/2 [transformers]\n",
      "   ---------------------------------------- 0/2 [transformers]\n",
      "   ---------------------------------------- 0/2 [transformers]\n",
      "   ---------------------------------------- 0/2 [transformers]\n",
      "   ---------------------------------------- 0/2 [transformers]\n",
      "   ---------------------------------------- 0/2 [transformers]\n",
      "   ---------------------------------------- 0/2 [transformers]\n",
      "   ---------------------------------------- 0/2 [transformers]\n",
      "   ---------------------------------------- 0/2 [transformers]\n",
      "   ---------------------------------------- 0/2 [transformers]\n",
      "   ---------------------------------------- 0/2 [transformers]\n",
      "   ---------------------------------------- 0/2 [transformers]\n",
      "   ---------------------------------------- 0/2 [transformers]\n",
      "   ---------------------------------------- 0/2 [transformers]\n",
      "   ---------------------------------------- 0/2 [transformers]\n",
      "   ---------------------------------------- 0/2 [transformers]\n",
      "   ---------------------------------------- 0/2 [transformers]\n",
      "   ---------------------------------------- 0/2 [transformers]\n",
      "   ---------------------------------------- 0/2 [transformers]\n",
      "   ---------------------------------------- 0/2 [transformers]\n",
      "   ---------------------------------------- 0/2 [transformers]\n",
      "   ---------------------------------------- 0/2 [transformers]\n",
      "   ---------------------------------------- 0/2 [transformers]\n",
      "   ---------------------------------------- 0/2 [transformers]\n",
      "   ---------------------------------------- 0/2 [transformers]\n",
      "   ---------------------------------------- 0/2 [transformers]\n",
      "   ---------------------------------------- 0/2 [transformers]\n",
      "   ---------------------------------------- 0/2 [transformers]\n",
      "   ---------------------------------------- 0/2 [transformers]\n",
      "   ---------------------------------------- 0/2 [transformers]\n",
      "   ---------------------------------------- 0/2 [transformers]\n",
      "   ---------------------------------------- 0/2 [transformers]\n",
      "   ---------------------------------------- 0/2 [transformers]\n",
      "   ---------------------------------------- 0/2 [transformers]\n",
      "   ---------------------------------------- 0/2 [transformers]\n",
      "   ---------------------------------------- 0/2 [transformers]\n",
      "   ---------------------------------------- 0/2 [transformers]\n",
      "   ---------------------------------------- 0/2 [transformers]\n",
      "   ---------------------------------------- 0/2 [transformers]\n",
      "   ---------------------------------------- 0/2 [transformers]\n",
      "   ---------------------------------------- 0/2 [transformers]\n",
      "   ---------------------------------------- 0/2 [transformers]\n",
      "   ---------------------------------------- 0/2 [transformers]\n",
      "   ---------------------------------------- 0/2 [transformers]\n",
      "   ---------------------------------------- 0/2 [transformers]\n",
      "   ---------------------------------------- 0/2 [transformers]\n",
      "   ---------------------------------------- 0/2 [transformers]\n",
      "   ---------------------------------------- 0/2 [transformers]\n",
      "   ---------------------------------------- 0/2 [transformers]\n",
      "   ---------------------------------------- 0/2 [transformers]\n",
      "   ---------------------------------------- 0/2 [transformers]\n",
      "   ---------------------------------------- 0/2 [transformers]\n",
      "   -------------------- ------------------- 1/2 [sentence-transformers]\n",
      "   -------------------- ------------------- 1/2 [sentence-transformers]\n",
      "   -------------------- ------------------- 1/2 [sentence-transformers]\n",
      "   -------------------- ------------------- 1/2 [sentence-transformers]\n",
      "   -------------------- ------------------- 1/2 [sentence-transformers]\n",
      "   -------------------- ------------------- 1/2 [sentence-transformers]\n",
      "   -------------------- ------------------- 1/2 [sentence-transformers]\n",
      "   ---------------------------------------- 2/2 [sentence-transformers]\n",
      "\n",
      "Successfully installed sentence-transformers-5.1.1 transformers-4.56.2\n"
     ]
    }
   ],
   "source": [
    "#Install Packages\n",
    "!pip install faiss-cpu\n",
    "!pip install sentence-transformers"
   ]
  },
  {
   "cell_type": "code",
   "execution_count": 3,
   "id": "96136e9f-fca2-47b0-9d4c-959346eff9c6",
   "metadata": {},
   "outputs": [],
   "source": [
    "import pandas as pd\n",
    "\n",
    "pd.set_option('display.max_colwidth', 100)"
   ]
  },
  {
   "cell_type": "code",
   "execution_count": 4,
   "id": "90d1ec23-d7c6-4f6b-87de-432b3bbe16a7",
   "metadata": {},
   "outputs": [
    {
     "data": {
      "text/plain": [
       "(50, 2)"
      ]
     },
     "execution_count": 4,
     "metadata": {},
     "output_type": "execute_result"
    }
   ],
   "source": [
    "df = pd.read_csv(\"sample.csv\")\n",
    "df.shape"
   ]
  },
  {
   "cell_type": "code",
   "execution_count": 5,
   "id": "dd907096-f4a3-4de8-aa30-8e35d1f0e922",
   "metadata": {},
   "outputs": [
    {
     "data": {
      "text/html": [
       "<div>\n",
       "<style scoped>\n",
       "    .dataframe tbody tr th:only-of-type {\n",
       "        vertical-align: middle;\n",
       "    }\n",
       "\n",
       "    .dataframe tbody tr th {\n",
       "        vertical-align: top;\n",
       "    }\n",
       "\n",
       "    .dataframe thead th {\n",
       "        text-align: right;\n",
       "    }\n",
       "</style>\n",
       "<table border=\"1\" class=\"dataframe\">\n",
       "  <thead>\n",
       "    <tr style=\"text-align: right;\">\n",
       "      <th></th>\n",
       "      <th>text</th>\n",
       "      <th>category</th>\n",
       "    </tr>\n",
       "  </thead>\n",
       "  <tbody>\n",
       "    <tr>\n",
       "      <th>0</th>\n",
       "      <td>Technology has transformed the way we communicate and work.</td>\n",
       "      <td>Technology</td>\n",
       "    </tr>\n",
       "    <tr>\n",
       "      <th>1</th>\n",
       "      <td>AI tools are revolutionizing modern education.</td>\n",
       "      <td>Technology</td>\n",
       "    </tr>\n",
       "    <tr>\n",
       "      <th>2</th>\n",
       "      <td>Smartphones have made information accessible instantly.</td>\n",
       "      <td>Technology</td>\n",
       "    </tr>\n",
       "    <tr>\n",
       "      <th>3</th>\n",
       "      <td>Cloud computing enables global collaboration efficiently.</td>\n",
       "      <td>Technology</td>\n",
       "    </tr>\n",
       "    <tr>\n",
       "      <th>4</th>\n",
       "      <td>Cybersecurity threats require advanced protective measures.</td>\n",
       "      <td>Technology</td>\n",
       "    </tr>\n",
       "    <tr>\n",
       "      <th>5</th>\n",
       "      <td>Vaccinations are essential for public health and safety.</td>\n",
       "      <td>Health</td>\n",
       "    </tr>\n",
       "    <tr>\n",
       "      <th>6</th>\n",
       "      <td>Meditation helps reduce stress and improve mental health.</td>\n",
       "      <td>Health</td>\n",
       "    </tr>\n",
       "    <tr>\n",
       "      <th>7</th>\n",
       "      <td>Regular exercise promotes physical and mental wellness.</td>\n",
       "      <td>Health</td>\n",
       "    </tr>\n",
       "    <tr>\n",
       "      <th>8</th>\n",
       "      <td>Nutrition plays a vital role in maintaining good health.</td>\n",
       "      <td>Health</td>\n",
       "    </tr>\n",
       "    <tr>\n",
       "      <th>9</th>\n",
       "      <td>Telemedicine allows remote consultations with doctors.</td>\n",
       "      <td>Health</td>\n",
       "    </tr>\n",
       "    <tr>\n",
       "      <th>10</th>\n",
       "      <td>The stock market fluctuates based on economic conditions.</td>\n",
       "      <td>Finance</td>\n",
       "    </tr>\n",
       "    <tr>\n",
       "      <th>11</th>\n",
       "      <td>Investors are cautious due to rising interest rates.</td>\n",
       "      <td>Finance</td>\n",
       "    </tr>\n",
       "    <tr>\n",
       "      <th>12</th>\n",
       "      <td>Diversifying investments reduces financial risk.</td>\n",
       "      <td>Finance</td>\n",
       "    </tr>\n",
       "    <tr>\n",
       "      <th>13</th>\n",
       "      <td>Cryptocurrency is gaining popularity among young investors.</td>\n",
       "      <td>Finance</td>\n",
       "    </tr>\n",
       "    <tr>\n",
       "      <th>14</th>\n",
       "      <td>Financial literacy is crucial for long-term wealth.</td>\n",
       "      <td>Finance</td>\n",
       "    </tr>\n",
       "    <tr>\n",
       "      <th>15</th>\n",
       "      <td>Football is one of the most popular sports in the world.</td>\n",
       "      <td>Sports</td>\n",
       "    </tr>\n",
       "    <tr>\n",
       "      <th>16</th>\n",
       "      <td>The Olympics bring together athletes globally.</td>\n",
       "      <td>Sports</td>\n",
       "    </tr>\n",
       "    <tr>\n",
       "      <th>17</th>\n",
       "      <td>Basketball games draw huge crowds every season.</td>\n",
       "      <td>Sports</td>\n",
       "    </tr>\n",
       "    <tr>\n",
       "      <th>18</th>\n",
       "      <td>Marathons test endurance and stamina of participants.</td>\n",
       "      <td>Sports</td>\n",
       "    </tr>\n",
       "    <tr>\n",
       "      <th>19</th>\n",
       "      <td>Swimming is a full-body exercise promoting fitness.</td>\n",
       "      <td>Sports</td>\n",
       "    </tr>\n",
       "    <tr>\n",
       "      <th>20</th>\n",
       "      <td>Climate change is affecting weather patterns globally.</td>\n",
       "      <td>Environment</td>\n",
       "    </tr>\n",
       "    <tr>\n",
       "      <th>21</th>\n",
       "      <td>Renewable energy sources help reduce carbon emissions.</td>\n",
       "      <td>Environment</td>\n",
       "    </tr>\n",
       "    <tr>\n",
       "      <th>22</th>\n",
       "      <td>Deforestation threatens biodiversity worldwide.</td>\n",
       "      <td>Environment</td>\n",
       "    </tr>\n",
       "    <tr>\n",
       "      <th>23</th>\n",
       "      <td>Recycling reduces waste and conserves natural resources.</td>\n",
       "      <td>Environment</td>\n",
       "    </tr>\n",
       "    <tr>\n",
       "      <th>24</th>\n",
       "      <td>Air pollution can cause respiratory problems.</td>\n",
       "      <td>Environment</td>\n",
       "    </tr>\n",
       "    <tr>\n",
       "      <th>25</th>\n",
       "      <td>Virtual reality is changing the gaming industry.</td>\n",
       "      <td>Technology</td>\n",
       "    </tr>\n",
       "    <tr>\n",
       "      <th>26</th>\n",
       "      <td>Machine learning algorithms optimize business processes.</td>\n",
       "      <td>Technology</td>\n",
       "    </tr>\n",
       "    <tr>\n",
       "      <th>27</th>\n",
       "      <td>Wearable devices track health metrics in real-time.</td>\n",
       "      <td>Technology</td>\n",
       "    </tr>\n",
       "    <tr>\n",
       "      <th>28</th>\n",
       "      <td>Automation improves efficiency in manufacturing.</td>\n",
       "      <td>Technology</td>\n",
       "    </tr>\n",
       "    <tr>\n",
       "      <th>29</th>\n",
       "      <td>Blockchain technology ensures secure transactions.</td>\n",
       "      <td>Technology</td>\n",
       "    </tr>\n",
       "    <tr>\n",
       "      <th>30</th>\n",
       "      <td>Mental health awareness is improving globally.</td>\n",
       "      <td>Health</td>\n",
       "    </tr>\n",
       "    <tr>\n",
       "      <th>31</th>\n",
       "      <td>Yoga enhances flexibility and reduces stress.</td>\n",
       "      <td>Health</td>\n",
       "    </tr>\n",
       "    <tr>\n",
       "      <th>32</th>\n",
       "      <td>Preventive care reduces long-term medical costs.</td>\n",
       "      <td>Health</td>\n",
       "    </tr>\n",
       "    <tr>\n",
       "      <th>33</th>\n",
       "      <td>Sleep quality is essential for overall health.</td>\n",
       "      <td>Health</td>\n",
       "    </tr>\n",
       "    <tr>\n",
       "      <th>34</th>\n",
       "      <td>Hydration affects both physical and cognitive performance.</td>\n",
       "      <td>Health</td>\n",
       "    </tr>\n",
       "    <tr>\n",
       "      <th>35</th>\n",
       "      <td>Economic forecasts help policymakers plan effectively.</td>\n",
       "      <td>Finance</td>\n",
       "    </tr>\n",
       "    <tr>\n",
       "      <th>36</th>\n",
       "      <td>Interest rates impact borrowing and investment.</td>\n",
       "      <td>Finance</td>\n",
       "    </tr>\n",
       "    <tr>\n",
       "      <th>37</th>\n",
       "      <td>Stock diversification balances potential losses.</td>\n",
       "      <td>Finance</td>\n",
       "    </tr>\n",
       "    <tr>\n",
       "      <th>38</th>\n",
       "      <td>Banking innovations simplify personal finance.</td>\n",
       "      <td>Finance</td>\n",
       "    </tr>\n",
       "    <tr>\n",
       "      <th>39</th>\n",
       "      <td>Insurance protects against unforeseen financial risks.</td>\n",
       "      <td>Finance</td>\n",
       "    </tr>\n",
       "    <tr>\n",
       "      <th>40</th>\n",
       "      <td>Tennis requires agility, precision, and focus.</td>\n",
       "      <td>Sports</td>\n",
       "    </tr>\n",
       "    <tr>\n",
       "      <th>41</th>\n",
       "      <td>Cycling promotes cardiovascular health and endurance.</td>\n",
       "      <td>Sports</td>\n",
       "    </tr>\n",
       "    <tr>\n",
       "      <th>42</th>\n",
       "      <td>Soccer leagues attract fans worldwide.</td>\n",
       "      <td>Sports</td>\n",
       "    </tr>\n",
       "    <tr>\n",
       "      <th>43</th>\n",
       "      <td>Winter sports like skiing require specialized skills.</td>\n",
       "      <td>Sports</td>\n",
       "    </tr>\n",
       "    <tr>\n",
       "      <th>44</th>\n",
       "      <td>Athletic training programs improve performance.</td>\n",
       "      <td>Sports</td>\n",
       "    </tr>\n",
       "    <tr>\n",
       "      <th>45</th>\n",
       "      <td>Sustainable agriculture conserves soil and water.</td>\n",
       "      <td>Environment</td>\n",
       "    </tr>\n",
       "    <tr>\n",
       "      <th>46</th>\n",
       "      <td>Energy-efficient buildings reduce carbon footprint.</td>\n",
       "      <td>Environment</td>\n",
       "    </tr>\n",
       "    <tr>\n",
       "      <th>47</th>\n",
       "      <td>Ocean pollution threatens marine life.</td>\n",
       "      <td>Environment</td>\n",
       "    </tr>\n",
       "    <tr>\n",
       "      <th>48</th>\n",
       "      <td>Wildlife conservation preserves ecosystems.</td>\n",
       "      <td>Environment</td>\n",
       "    </tr>\n",
       "    <tr>\n",
       "      <th>49</th>\n",
       "      <td>Green technology drives environmental innovation.</td>\n",
       "      <td>Environment</td>\n",
       "    </tr>\n",
       "  </tbody>\n",
       "</table>\n",
       "</div>"
      ],
      "text/plain": [
       "                                                           text     category\n",
       "0   Technology has transformed the way we communicate and work.   Technology\n",
       "1                AI tools are revolutionizing modern education.   Technology\n",
       "2       Smartphones have made information accessible instantly.   Technology\n",
       "3     Cloud computing enables global collaboration efficiently.   Technology\n",
       "4   Cybersecurity threats require advanced protective measures.   Technology\n",
       "5      Vaccinations are essential for public health and safety.       Health\n",
       "6     Meditation helps reduce stress and improve mental health.       Health\n",
       "7       Regular exercise promotes physical and mental wellness.       Health\n",
       "8      Nutrition plays a vital role in maintaining good health.       Health\n",
       "9        Telemedicine allows remote consultations with doctors.       Health\n",
       "10    The stock market fluctuates based on economic conditions.      Finance\n",
       "11         Investors are cautious due to rising interest rates.      Finance\n",
       "12             Diversifying investments reduces financial risk.      Finance\n",
       "13  Cryptocurrency is gaining popularity among young investors.      Finance\n",
       "14          Financial literacy is crucial for long-term wealth.      Finance\n",
       "15     Football is one of the most popular sports in the world.       Sports\n",
       "16               The Olympics bring together athletes globally.       Sports\n",
       "17              Basketball games draw huge crowds every season.       Sports\n",
       "18        Marathons test endurance and stamina of participants.       Sports\n",
       "19          Swimming is a full-body exercise promoting fitness.       Sports\n",
       "20       Climate change is affecting weather patterns globally.  Environment\n",
       "21       Renewable energy sources help reduce carbon emissions.  Environment\n",
       "22              Deforestation threatens biodiversity worldwide.  Environment\n",
       "23     Recycling reduces waste and conserves natural resources.  Environment\n",
       "24                Air pollution can cause respiratory problems.  Environment\n",
       "25             Virtual reality is changing the gaming industry.   Technology\n",
       "26     Machine learning algorithms optimize business processes.   Technology\n",
       "27          Wearable devices track health metrics in real-time.   Technology\n",
       "28             Automation improves efficiency in manufacturing.   Technology\n",
       "29           Blockchain technology ensures secure transactions.   Technology\n",
       "30               Mental health awareness is improving globally.       Health\n",
       "31                Yoga enhances flexibility and reduces stress.       Health\n",
       "32             Preventive care reduces long-term medical costs.       Health\n",
       "33               Sleep quality is essential for overall health.       Health\n",
       "34   Hydration affects both physical and cognitive performance.       Health\n",
       "35       Economic forecasts help policymakers plan effectively.      Finance\n",
       "36              Interest rates impact borrowing and investment.      Finance\n",
       "37             Stock diversification balances potential losses.      Finance\n",
       "38               Banking innovations simplify personal finance.      Finance\n",
       "39       Insurance protects against unforeseen financial risks.      Finance\n",
       "40               Tennis requires agility, precision, and focus.       Sports\n",
       "41        Cycling promotes cardiovascular health and endurance.       Sports\n",
       "42                       Soccer leagues attract fans worldwide.       Sports\n",
       "43        Winter sports like skiing require specialized skills.       Sports\n",
       "44              Athletic training programs improve performance.       Sports\n",
       "45            Sustainable agriculture conserves soil and water.  Environment\n",
       "46          Energy-efficient buildings reduce carbon footprint.  Environment\n",
       "47                       Ocean pollution threatens marine life.  Environment\n",
       "48                  Wildlife conservation preserves ecosystems.  Environment\n",
       "49            Green technology drives environmental innovation.  Environment"
      ]
     },
     "execution_count": 5,
     "metadata": {},
     "output_type": "execute_result"
    }
   ],
   "source": [
    "df"
   ]
  },
  {
   "cell_type": "code",
   "execution_count": 6,
   "id": "78fef205-fdba-40b8-b9df-18e2bd1dc58e",
   "metadata": {},
   "outputs": [
    {
     "data": {
      "text/plain": [
       "(50, 768)"
      ]
     },
     "execution_count": 6,
     "metadata": {},
     "output_type": "execute_result"
    }
   ],
   "source": [
    "from sentence_transformers import SentenceTransformer\n",
    "\n",
    "encoder = SentenceTransformer(\"all-mpnet-base-v2\")\n",
    "vectors = encoder.encode(df.text)\n",
    "vectors.shape"
   ]
  },
  {
   "cell_type": "code",
   "execution_count": 7,
   "id": "8d2d7c8d-d537-4954-a957-54a5dd1aabcf",
   "metadata": {},
   "outputs": [
    {
     "data": {
      "text/plain": [
       "768"
      ]
     },
     "execution_count": 7,
     "metadata": {},
     "output_type": "execute_result"
    }
   ],
   "source": [
    "dim = vectors.shape[1]\n",
    "dim"
   ]
  },
  {
   "cell_type": "code",
   "execution_count": 9,
   "id": "ddf7fead-cd5f-439f-9b8e-5ec12fbf2cf6",
   "metadata": {},
   "outputs": [
    {
     "data": {
      "text/plain": [
       "<faiss.swigfaiss_avx2.IndexFlatL2; proxy of <Swig Object of type 'faiss::IndexFlatL2 *' at 0x000002202DD371B0> >"
      ]
     },
     "execution_count": 9,
     "metadata": {},
     "output_type": "execute_result"
    }
   ],
   "source": [
    "import faiss\n",
    "index = faiss.IndexFlatL2(dim)\n",
    "index"
   ]
  },
  {
   "cell_type": "code",
   "execution_count": 11,
   "id": "172ee26d-6723-4b60-aa42-e724d16c53d4",
   "metadata": {},
   "outputs": [],
   "source": [
    "index.add(vectors)"
   ]
  },
  {
   "cell_type": "code",
   "execution_count": 51,
   "id": "abdd829d-cf9f-4899-bcb5-6084ee5d0398",
   "metadata": {},
   "outputs": [
    {
     "data": {
      "text/plain": [
       "(768,)"
      ]
     },
     "execution_count": 51,
     "metadata": {},
     "output_type": "execute_result"
    }
   ],
   "source": [
    "search_query=\"need to play\"\n",
    "\n",
    "vec = encoder.encode(search_query)\n",
    "vec.shape"
   ]
  },
  {
   "cell_type": "code",
   "execution_count": 52,
   "id": "d7f0fd74-129b-49f1-85f2-fb5bed7da420",
   "metadata": {},
   "outputs": [
    {
     "data": {
      "text/plain": [
       "(1, 768)"
      ]
     },
     "execution_count": 52,
     "metadata": {},
     "output_type": "execute_result"
    }
   ],
   "source": [
    "import numpy as np\n",
    "svec = np.array(vec).reshape(1,-1)\n",
    "svec.shape"
   ]
  },
  {
   "cell_type": "code",
   "execution_count": 53,
   "id": "8c3d35f8-adf5-4b3c-aea0-373f6625e646",
   "metadata": {},
   "outputs": [],
   "source": [
    "distances, I = index.search(svec, k=1)"
   ]
  },
  {
   "cell_type": "code",
   "execution_count": 54,
   "id": "0f7f0b6b-ea85-4d86-876d-a8fdeaf0b220",
   "metadata": {},
   "outputs": [
    {
     "data": {
      "text/plain": [
       "array([[15]])"
      ]
     },
     "execution_count": 54,
     "metadata": {},
     "output_type": "execute_result"
    }
   ],
   "source": [
    "I"
   ]
  },
  {
   "cell_type": "code",
   "execution_count": 55,
   "id": "5922a3ba-9084-4f47-a739-a4d2b37f1f95",
   "metadata": {},
   "outputs": [
    {
     "data": {
      "text/html": [
       "<div>\n",
       "<style scoped>\n",
       "    .dataframe tbody tr th:only-of-type {\n",
       "        vertical-align: middle;\n",
       "    }\n",
       "\n",
       "    .dataframe tbody tr th {\n",
       "        vertical-align: top;\n",
       "    }\n",
       "\n",
       "    .dataframe thead th {\n",
       "        text-align: right;\n",
       "    }\n",
       "</style>\n",
       "<table border=\"1\" class=\"dataframe\">\n",
       "  <thead>\n",
       "    <tr style=\"text-align: right;\">\n",
       "      <th></th>\n",
       "      <th>text</th>\n",
       "      <th>category</th>\n",
       "    </tr>\n",
       "  </thead>\n",
       "  <tbody>\n",
       "    <tr>\n",
       "      <th>15</th>\n",
       "      <td>Football is one of the most popular sports in the world.</td>\n",
       "      <td>Sports</td>\n",
       "    </tr>\n",
       "  </tbody>\n",
       "</table>\n",
       "</div>"
      ],
      "text/plain": [
       "                                                        text category\n",
       "15  Football is one of the most popular sports in the world.   Sports"
      ]
     },
     "execution_count": 55,
     "metadata": {},
     "output_type": "execute_result"
    }
   ],
   "source": [
    "df.loc[I[0]]"
   ]
  },
  {
   "cell_type": "code",
   "execution_count": 57,
   "id": "413e41e5-e2a7-4813-8f95-457645c6e552",
   "metadata": {},
   "outputs": [],
   "source": [
    "import os\n",
    "import streamlit as st\n",
    "import pickle\n",
    "import time\n",
    "import langchain\n",
    "from langchain import OpenAI\n",
    "from langchain.chains import RetrievalQAWithSourcesChain\n",
    "from langchain.chains.qa_with_sources.loading import load_qa_with_sources_chain\n",
    "from langchain.text_splitter import RecursiveCharacterTextSplitter\n",
    "from langchain.document_loaders import UnstructuredURLLoader\n",
    "from langchain.embeddings import OpenAIEmbeddings\n",
    "from langchain.vectorstores import FAISS"
   ]
  },
  {
   "cell_type": "code",
   "execution_count": 58,
   "id": "268ac66b-275f-4bf5-b6de-1049cccf8cbc",
   "metadata": {},
   "outputs": [],
   "source": [
    "os.environ['OPENAI_API_KEY'] = 'your open api key'"
   ]
  },
  {
   "cell_type": "code",
   "execution_count": 60,
   "id": "d4fb1733-a73f-4474-a4b1-f208b494aadc",
   "metadata": {},
   "outputs": [
    {
     "name": "stderr",
     "output_type": "stream",
     "text": [
      "C:\\Users\\pc\\AppData\\Local\\Temp\\ipykernel_3884\\1523713467.py:2: LangChainDeprecationWarning: The class `OpenAI` was deprecated in LangChain 0.0.10 and will be removed in 1.0. An updated version of the class exists in the :class:`~langchain-openai package and should be used instead. To use it run `pip install -U :class:`~langchain-openai` and import as `from :class:`~langchain_openai import OpenAI``.\n",
      "  llm = OpenAI(temperature=0.9, max_tokens=500)\n"
     ]
    },
    {
     "ename": "ImportError",
     "evalue": "Could not import openai python package. Please install it with `pip install openai`.",
     "output_type": "error",
     "traceback": [
      "\u001b[31m---------------------------------------------------------------------------\u001b[39m",
      "\u001b[31mModuleNotFoundError\u001b[39m                       Traceback (most recent call last)",
      "\u001b[36mFile \u001b[39m\u001b[32m~\\AppData\\Local\\Programs\\Python\\Python313\\Lib\\site-packages\\langchain_community\\llms\\openai.py:303\u001b[39m, in \u001b[36mBaseOpenAI.validate_environment\u001b[39m\u001b[34m(cls, values)\u001b[39m\n\u001b[32m    302\u001b[39m \u001b[38;5;28;01mtry\u001b[39;00m:\n\u001b[32m--> \u001b[39m\u001b[32m303\u001b[39m     \u001b[38;5;28;01mimport\u001b[39;00m\u001b[38;5;250m \u001b[39m\u001b[34;01mopenai\u001b[39;00m\n\u001b[32m    304\u001b[39m \u001b[38;5;28;01mexcept\u001b[39;00m \u001b[38;5;167;01mImportError\u001b[39;00m:\n",
      "\u001b[31mModuleNotFoundError\u001b[39m: No module named 'openai'",
      "\nDuring handling of the above exception, another exception occurred:\n",
      "\u001b[31mImportError\u001b[39m                               Traceback (most recent call last)",
      "\u001b[36mCell\u001b[39m\u001b[36m \u001b[39m\u001b[32mIn[60]\u001b[39m\u001b[32m, line 2\u001b[39m\n\u001b[32m      1\u001b[39m \u001b[38;5;66;03m# Initialise LLM with required params\u001b[39;00m\n\u001b[32m----> \u001b[39m\u001b[32m2\u001b[39m llm = \u001b[43mOpenAI\u001b[49m\u001b[43m(\u001b[49m\u001b[43mtemperature\u001b[49m\u001b[43m=\u001b[49m\u001b[32;43m0.9\u001b[39;49m\u001b[43m,\u001b[49m\u001b[43m \u001b[49m\u001b[43mmax_tokens\u001b[49m\u001b[43m=\u001b[49m\u001b[32;43m500\u001b[39;49m\u001b[43m)\u001b[49m\n\u001b[32m      4\u001b[39m loaders = UnstructuredURLLoader(urls=[\n\u001b[32m      5\u001b[39m \u001b[33m\"\u001b[39m\u001b[33mhttps://www.moneycontrol.com/news/business/markets/wall-street-rises-as-tesla-soars-on-ai-optimism-11351111.html\u001b[39m\u001b[33m\"\u001b[39m,\n\u001b[32m      6\u001b[39m \u001b[33m\"\u001b[39m\u001b[33mhttps://www.moneycontrol.com/news/business/tata-motors-launches-punch-icng-price-starts-at-rs-7-1-lakh-11098751.html\u001b[39m\u001b[33m\"\u001b[39m\n\u001b[32m      7\u001b[39m ])\n\u001b[32m      8\u001b[39m data = loaders.load()\n",
      "\u001b[36mFile \u001b[39m\u001b[32m~\\AppData\\Local\\Programs\\Python\\Python313\\Lib\\site-packages\\langchain_core\\_api\\deprecation.py:226\u001b[39m, in \u001b[36mdeprecated.<locals>.deprecate.<locals>.finalize.<locals>.warn_if_direct_instance\u001b[39m\u001b[34m(self, *args, **kwargs)\u001b[39m\n\u001b[32m    224\u001b[39m     warned = \u001b[38;5;28;01mTrue\u001b[39;00m\n\u001b[32m    225\u001b[39m     emit_warning()\n\u001b[32m--> \u001b[39m\u001b[32m226\u001b[39m \u001b[38;5;28;01mreturn\u001b[39;00m \u001b[43mwrapped\u001b[49m\u001b[43m(\u001b[49m\u001b[38;5;28;43mself\u001b[39;49m\u001b[43m,\u001b[49m\u001b[43m \u001b[49m\u001b[43m*\u001b[49m\u001b[43margs\u001b[49m\u001b[43m,\u001b[49m\u001b[43m \u001b[49m\u001b[43m*\u001b[49m\u001b[43m*\u001b[49m\u001b[43mkwargs\u001b[49m\u001b[43m)\u001b[49m\n",
      "\u001b[36mFile \u001b[39m\u001b[32m~\\AppData\\Local\\Programs\\Python\\Python313\\Lib\\site-packages\\langchain_core\\load\\serializable.py:115\u001b[39m, in \u001b[36mSerializable.__init__\u001b[39m\u001b[34m(self, *args, **kwargs)\u001b[39m\n\u001b[32m    113\u001b[39m \u001b[38;5;28;01mdef\u001b[39;00m\u001b[38;5;250m \u001b[39m\u001b[34m__init__\u001b[39m(\u001b[38;5;28mself\u001b[39m, *args: Any, **kwargs: Any) -> \u001b[38;5;28;01mNone\u001b[39;00m:\n\u001b[32m    114\u001b[39m \u001b[38;5;250m    \u001b[39m\u001b[33;03m\"\"\"\"\"\"\u001b[39;00m  \u001b[38;5;66;03m# noqa: D419\u001b[39;00m\n\u001b[32m--> \u001b[39m\u001b[32m115\u001b[39m     \u001b[38;5;28;43msuper\u001b[39;49m\u001b[43m(\u001b[49m\u001b[43m)\u001b[49m\u001b[43m.\u001b[49m\u001b[34;43m__init__\u001b[39;49m\u001b[43m(\u001b[49m\u001b[43m*\u001b[49m\u001b[43margs\u001b[49m\u001b[43m,\u001b[49m\u001b[43m \u001b[49m\u001b[43m*\u001b[49m\u001b[43m*\u001b[49m\u001b[43mkwargs\u001b[49m\u001b[43m)\u001b[49m\n",
      "    \u001b[31m[... skipping hidden 1 frame]\u001b[39m\n",
      "\u001b[36mFile \u001b[39m\u001b[32m~\\AppData\\Local\\Programs\\Python\\Python313\\Lib\\site-packages\\pydantic\\_internal\\_decorators_v1.py:148\u001b[39m, in \u001b[36mmake_v1_generic_root_validator.<locals>._wrapper1\u001b[39m\u001b[34m(values, _)\u001b[39m\n\u001b[32m    147\u001b[39m \u001b[38;5;28;01mdef\u001b[39;00m\u001b[38;5;250m \u001b[39m\u001b[34m_wrapper1\u001b[39m(values: RootValidatorValues, _: core_schema.ValidationInfo) -> RootValidatorValues:\n\u001b[32m--> \u001b[39m\u001b[32m148\u001b[39m     \u001b[38;5;28;01mreturn\u001b[39;00m \u001b[43mvalidator\u001b[49m\u001b[43m(\u001b[49m\u001b[43mvalues\u001b[49m\u001b[43m)\u001b[49m\n",
      "\u001b[36mFile \u001b[39m\u001b[32m~\\AppData\\Local\\Programs\\Python\\Python313\\Lib\\site-packages\\langchain_core\\utils\\pydantic.py:185\u001b[39m, in \u001b[36mpre_init.<locals>.wrapper\u001b[39m\u001b[34m(cls, values)\u001b[39m\n\u001b[32m    182\u001b[39m             values[name] = field_info.default\n\u001b[32m    184\u001b[39m \u001b[38;5;66;03m# Call the decorated function\u001b[39;00m\n\u001b[32m--> \u001b[39m\u001b[32m185\u001b[39m \u001b[38;5;28;01mreturn\u001b[39;00m \u001b[43mfunc\u001b[49m\u001b[43m(\u001b[49m\u001b[38;5;28;43mcls\u001b[39;49m\u001b[43m,\u001b[49m\u001b[43m \u001b[49m\u001b[43mvalues\u001b[49m\u001b[43m)\u001b[49m\n",
      "\u001b[36mFile \u001b[39m\u001b[32m~\\AppData\\Local\\Programs\\Python\\Python313\\Lib\\site-packages\\langchain_community\\llms\\openai.py:305\u001b[39m, in \u001b[36mBaseOpenAI.validate_environment\u001b[39m\u001b[34m(cls, values)\u001b[39m\n\u001b[32m    303\u001b[39m     \u001b[38;5;28;01mimport\u001b[39;00m\u001b[38;5;250m \u001b[39m\u001b[34;01mopenai\u001b[39;00m\n\u001b[32m    304\u001b[39m \u001b[38;5;28;01mexcept\u001b[39;00m \u001b[38;5;167;01mImportError\u001b[39;00m:\n\u001b[32m--> \u001b[39m\u001b[32m305\u001b[39m     \u001b[38;5;28;01mraise\u001b[39;00m \u001b[38;5;167;01mImportError\u001b[39;00m(\n\u001b[32m    306\u001b[39m         \u001b[33m\"\u001b[39m\u001b[33mCould not import openai python package. \u001b[39m\u001b[33m\"\u001b[39m\n\u001b[32m    307\u001b[39m         \u001b[33m\"\u001b[39m\u001b[33mPlease install it with `pip install openai`.\u001b[39m\u001b[33m\"\u001b[39m\n\u001b[32m    308\u001b[39m     )\n\u001b[32m    310\u001b[39m \u001b[38;5;28;01mif\u001b[39;00m is_openai_v1():\n\u001b[32m    311\u001b[39m     client_params = {\n\u001b[32m    312\u001b[39m         \u001b[33m\"\u001b[39m\u001b[33mapi_key\u001b[39m\u001b[33m\"\u001b[39m: values[\u001b[33m\"\u001b[39m\u001b[33mopenai_api_key\u001b[39m\u001b[33m\"\u001b[39m],\n\u001b[32m    313\u001b[39m         \u001b[33m\"\u001b[39m\u001b[33morganization\u001b[39m\u001b[33m\"\u001b[39m: values[\u001b[33m\"\u001b[39m\u001b[33mopenai_organization\u001b[39m\u001b[33m\"\u001b[39m],\n\u001b[32m   (...)\u001b[39m\u001b[32m    319\u001b[39m         \u001b[33m\"\u001b[39m\u001b[33mhttp_client\u001b[39m\u001b[33m\"\u001b[39m: values[\u001b[33m\"\u001b[39m\u001b[33mhttp_client\u001b[39m\u001b[33m\"\u001b[39m],\n\u001b[32m    320\u001b[39m     }\n",
      "\u001b[31mImportError\u001b[39m: Could not import openai python package. Please install it with `pip install openai`."
     ]
    }
   ],
   "source": [
    "# Initialise LLM with required params\n",
    "llm = OpenAI(temperature=0.9, max_tokens=500)\n",
    "\n",
    "loaders = UnstructuredURLLoader(urls=[\n",
    "\"https://www.moneycontrol.com/news/business/markets/wall-street-rises-as-tesla-soars-on-ai-optimism-11351111.html\",\n",
    "\"https://www.moneycontrol.com/news/business/tata-motors-launches-punch-icng-price-starts-at-rs-7-1-lakh-11098751.html\"\n",
    "])\n",
    "data = loaders.load()\n",
    "len(data)"
   ]
  },
  {
   "cell_type": "code",
   "execution_count": 61,
   "id": "76e32c14-c6b0-4480-b2e8-5f1ffda2c786",
   "metadata": {},
   "outputs": [
    {
     "ename": "NameError",
     "evalue": "name 'data' is not defined",
     "output_type": "error",
     "traceback": [
      "\u001b[31m---------------------------------------------------------------------------\u001b[39m",
      "\u001b[31mNameError\u001b[39m                                 Traceback (most recent call last)",
      "\u001b[36mCell\u001b[39m\u001b[36m \u001b[39m\u001b[32mIn[61]\u001b[39m\u001b[32m, line 7\u001b[39m\n\u001b[32m      1\u001b[39m text_splitter = RecursiveCharacterTextSplitter(\n\u001b[32m      2\u001b[39m chunk_size=\u001b[32m1000\u001b[39m,\n\u001b[32m      3\u001b[39m chunk_overlap=\u001b[32m200\u001b[39m\n\u001b[32m      4\u001b[39m )\n\u001b[32m      6\u001b[39m \u001b[38;5;66;03m# As data is of type documents we can directly use split_documents over split_text in order to get the chunks.\u001b[39;00m\n\u001b[32m----> \u001b[39m\u001b[32m7\u001b[39m docs = text_splitter.split_documents(\u001b[43mdata\u001b[49m)\n\u001b[32m      8\u001b[39m \u001b[38;5;28mlen\u001b[39m(docs)\n",
      "\u001b[31mNameError\u001b[39m: name 'data' is not defined"
     ]
    }
   ],
   "source": [
    "text_splitter = RecursiveCharacterTextSplitter(\n",
    "chunk_size=1000,\n",
    "chunk_overlap=200\n",
    ")\n",
    "\n",
    "# As data is of type documents we can directly use split_documents over split_text in order to get the chunks.\n",
    "docs = text_splitter.split_documents(data)\n",
    "len(docs)"
   ]
  },
  {
   "cell_type": "code",
   "execution_count": null,
   "id": "0275fb11-ae8e-4588-b49f-728efc14b922",
   "metadata": {},
   "outputs": [],
   "source": [
    "embeddings = OpenAIEmbeddings()\n",
    "\n",
    "vectorindex _openai = FAISS.from_documents(docs, embeddings)"
   ]
  },
  {
   "cell_type": "code",
   "execution_count": null,
   "id": "1b0a2fa7-3ccb-4b11-bd40-39fc06166d2c",
   "metadata": {},
   "outputs": [],
   "source": [
    "# Storing vector index create in local\n",
    "file_path=\"vector_index.pkl\"\n",
    "with open(file_path, \"wb\") as f:\n",
    "pickle.dump(vectorindex_openai, f)"
   ]
  },
  {
   "cell_type": "code",
   "execution_count": null,
   "id": "ce74f426-ef6e-4b36-8e69-537651bc183e",
   "metadata": {},
   "outputs": [],
   "source": [
    "if os.path.exists(file_path):\n",
    "with open(file_path, \"rb\") as f:\n",
    "vectorInex = pickle.load(f)"
   ]
  }
 ],
 "metadata": {
  "kernelspec": {
   "display_name": "Python 3.13",
   "language": "python",
   "name": "py313"
  },
  "language_info": {
   "codemirror_mode": {
    "name": "ipython",
    "version": 3
   },
   "file_extension": ".py",
   "mimetype": "text/x-python",
   "name": "python",
   "nbconvert_exporter": "python",
   "pygments_lexer": "ipython3",
   "version": "3.13.7"
  }
 },
 "nbformat": 4,
 "nbformat_minor": 5
}
